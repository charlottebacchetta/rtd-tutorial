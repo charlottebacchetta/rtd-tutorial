{
 "cells": [
  {
   "cell_type": "markdown",
   "metadata": {},
   "source": [
    "# Project 3 - Evolution of the French Population\n",
    "### Charlotte Bacchetta: cmb2374\n",
    "This notebook studies the evolution of the French population from 1975 to the present, focusing on the distribution across different age categories and the impact of net migration trends. The analysis is based on official datasets provided by l'Institut National de la Statistique et des Études Économiques (INSEE), the French national institute responsible for collecting, analyzing, and disseminating statistical data about France's economy, demographics, and society. INSEE's data is widely regarded as authoritative and is used to inform public policy and academic research. The study aims to provide a robust and comprehensive analysis of demographic shifts and migration patterns over the past 50 years."
   ]
  },
  {
   "cell_type": "markdown",
   "metadata": {},
   "source": [
    "## Prompt\n",
    "**Dataset(s) to be used:**\n",
    "- Population as of January 1st - Total - Under 20 years old - Metropolitan France: https://www.insee.fr/fr/statistiques/serie/001686809\n",
    "- Population as of January 1st - Total - Aged 20 to 59 years - Metropolitan France: https://www.insee.fr/fr/statistiques/serie/001686810\n",
    "- Population as of January 1st - Total - Aged 75 years and over - Metropolitan France: https://www.insee.fr/fr/statistiques/serie/001686812\n",
    "- Demographics - Population - Metropolitan France: https://www.insee.fr/fr/statistiques/serie/000436387\n",
    "- Demographics - Estimated net migration - Metropolitan France: https://www.insee.fr/fr/statistiques/serie/001002693\n",
    "\n",
    "**Analysis question:**\n",
    "How has the French population evolved across different age categories from 1975 to the present, and what are the implications of net migration trends?\n",
    "\n",
    "**Columns that will (likely) be used:**\n",
    "- Year\n",
    "- Population (0-20)\n",
    "- Population (20-59)\n",
    "- Population (60-74) - To be computed\n",
    "- Population (75+)\n",
    "- Total Population\n",
    "- Net Migration\n",
    "\n",
    "**Columns to be used to merge/join datasets:**\n",
    "- All datasets will be merged on 'Year'.\n",
    "\n",
    "**Hypothesis:**\n",
    "The French population shows significant demographic shifts, with increasing numbers in older age categories, driven by aging trends and influenced by net migration.\n",
    "\n",
    "**Site URL:**\n",
    "Add your Read the Docs URL here after publishing."
   ]
  },
  {
   "cell_type": "markdown",
   "metadata": {},
   "source": [
    "## Step 1: Data Collection"
   ]
  },
  {
   "cell_type": "code",
   "execution_count": 65,
   "metadata": {},
   "outputs": [],
   "source": [
    "# Import necessary libraries\n",
    "import pandas as pd\n",
    "\n",
    "# File path for datasets\n",
    "base_path = \"/Users/charlottebacchetta/Desktop/Columbia/Computing in Context - U6006/Project 3/Data Set/\"\n",
    "\n",
    "# File paths\n",
    "file_paths = {\n",
    "    \"total_population\": base_path + \"French_Population_1975_Present.csv\",\n",
    "    \"pop_0_to_20\": base_path + \"0_to_20_pop.csv\",\n",
    "    \"pop_20_to_59\": base_path + \"20_to_59.csv\",\n",
    "    \"pop_75_plus\": base_path + \"75plus_pop.csv\",\n",
    "    \"net_migration\": base_path + \"Net_Migration_1946_Present.csv\"\n",
    "}\n",
    "\n",
    "# Load datasets into pandas DataFrames\n",
    "df_total_population = pd.read_csv(file_paths[\"total_population\"])\n",
    "df_pop_0_to_20 = pd.read_csv(file_paths[\"pop_0_to_20\"])\n",
    "df_pop_20_to_59 = pd.read_csv(file_paths[\"pop_20_to_59\"])\n",
    "df_pop_75_plus = pd.read_csv(file_paths[\"pop_75_plus\"])\n",
    "df_net_migration = pd.read_csv(file_paths[\"net_migration\"])\n"
   ]
  },
  {
   "cell_type": "markdown",
   "metadata": {},
   "source": [
    "## Step 2: Data Inspection"
   ]
  },
  {
   "cell_type": "code",
   "execution_count": 66,
   "metadata": {},
   "outputs": [
    {
     "name": "stdout",
     "output_type": "stream",
     "text": [
      "  Libellé;\"Démographie - Population au début du mois - France métropolitaine\";\"Codes\"\n",
      "0                              idBank;\"000436387\";\"\"                                 \n",
      "1         Dernière mise à jour;\"29/11/2024 12:00\";\"\"                                 \n",
      "2                                      Période;\"\";\"\"                                 \n",
      "3                                2024-11;\"66313\";\"P\"                                 \n",
      "4                                2024-10;\"66297\";\"P\"                                 \n",
      "  Libellé;\"Population au 1er janvier - Ensemble - Moins de 20 ans - France métropolitaine\";\"Codes\"\n",
      "0                              idBank;\"001686809\";\"\"                                              \n",
      "1         Dernière mise à jour;\"16/01/2024 12:00\";\"\"                                              \n",
      "2                                      Période;\"\";\"\"                                              \n",
      "3                                2024;\"15222363\";\"P\"                                              \n",
      "4                                2023;\"15297453\";\"P\"                                              \n",
      "  Libellé;\"Population au 1er janvier - Ensemble - De 20 à 59 ans - France métropolitaine\";\"Codes\"\n",
      "0                              idBank;\"001686810\";\"\"                                             \n",
      "1         Dernière mise à jour;\"16/01/2024 12:00\";\"\"                                             \n",
      "2                                      Période;\"\";\"\"                                             \n",
      "3                                2024;\"32402690\";\"P\"                                             \n",
      "4                                2023;\"32425155\";\"P\"                                             \n",
      "  Libellé;\"Population au 1er janvier - Ensemble - 75 ans et plus - France métropolitaine\";\"Codes\"\n",
      "0                              idBank;\"001686812\";\"\"                                             \n",
      "1         Dernière mise à jour;\"16/01/2024 12:00\";\"\"                                             \n",
      "2                                      Période;\"\";\"\"                                             \n",
      "3                                 2024;\"6968892\";\"P\"                                             \n",
      "4                                 2023;\"6697135\";\"P\"                                             \n",
      "  Libellé;\"Démographie - Excédent migratoire évalué - France métropolitaine\";\"Codes\"\n",
      "0                              idBank;\"001002693\";\"\"                                \n",
      "1         Dernière mise à jour;\"16/01/2024 12:00\";\"\"                                \n",
      "2                                      Période;\"\";\"\"                                \n",
      "3                                  2023;\"193000\";\"P\"                                \n",
      "4                                  2022;\"193000\";\"P\"                                \n"
     ]
    }
   ],
   "source": [
    "# Inspect datasets\n",
    "print(df_total_population.head())\n",
    "print(df_pop_0_to_20.head())\n",
    "print(df_pop_20_to_59.head())\n",
    "print(df_pop_75_plus.head())\n",
    "print(df_net_migration.head())\n"
   ]
  },
  {
   "cell_type": "markdown",
   "metadata": {},
   "source": [
    "### Observation:\n",
    "1) We notice that the data is in French (I'm assuming you are a bit lost!) so I need to translate column names so that you can understand what's going on. \n",
    "\n",
    "2) We see that the first few rows of the file contain metadata which is irrelevant to our analysis (e.g., description, update date) so we disregard it. We only want the population number and the year."
   ]
  },
  {
   "cell_type": "markdown",
   "metadata": {},
   "source": [
    "## Step 3: Data Cleaning"
   ]
  },
  {
   "cell_type": "code",
   "execution_count": 67,
   "metadata": {},
   "outputs": [
    {
     "name": "stdout",
     "output_type": "stream",
     "text": [
      "      Year  Total Population\n",
      "0  2024-11             66313\n",
      "1  2024-10             66297\n",
      "2  2024-09             66276\n",
      "3  2024-08             66254\n",
      "4  2024-07             66231\n",
      "   Year  Population (0-20)\n",
      "0  2024           15222363\n",
      "1  2023           15297453\n",
      "2  2022           15355494\n",
      "3  2021           15417227\n",
      "4  2020           15512858\n",
      "   Year  Population (20-59)\n",
      "0  2024            32402690\n",
      "1  2023            32425155\n",
      "2  2022            32410370\n",
      "3  2021            32395954\n",
      "4  2020            32303266\n",
      "   Year  Population (75+)\n",
      "0  2024           6968892\n",
      "1  2023           6697135\n",
      "2  2022           6467397\n",
      "3  2021           6253682\n",
      "4  2020           6223555\n",
      "   Year  Net Migration\n",
      "0  2023         193000\n",
      "1  2022         193000\n",
      "2  2021         193000\n",
      "3  2020         227847\n",
      "4  2019         139849\n"
     ]
    }
   ],
   "source": [
    "# Load datasets with proper delimiter and skip metadata rows\n",
    "df_total_population = pd.read_csv(file_paths[\"total_population\"], delimiter=\";\", skiprows=3)\n",
    "df_pop_0_to_20 = pd.read_csv(file_paths[\"pop_0_to_20\"], delimiter=\";\", skiprows=3)\n",
    "df_pop_20_to_59 = pd.read_csv(file_paths[\"pop_20_to_59\"], delimiter=\";\", skiprows=3)\n",
    "df_pop_75_plus = pd.read_csv(file_paths[\"pop_75_plus\"], delimiter=\";\", skiprows=3)\n",
    "df_net_migration = pd.read_csv(file_paths[\"net_migration\"], delimiter=\";\", skiprows=3)\n",
    "\n",
    "# Assign clear English column names based on dataset structure\n",
    "df_total_population.columns = [\"Year\", \"Total Population\", \"Data Type\"]\n",
    "df_pop_0_to_20.columns = [\"Year\", \"Population (0-20)\", \"Data Type\"]\n",
    "df_pop_20_to_59.columns = [\"Year\", \"Population (20-59)\", \"Data Type\"]\n",
    "df_pop_75_plus.columns = [\"Year\", \"Population (75+)\", \"Data Type\"]\n",
    "df_net_migration.columns = [\"Year\", \"Net Migration\", \"Data Type\"]\n",
    "\n",
    "# Retain only 'Year' and the relevant column\n",
    "df_total_population = df_total_population[[\"Year\", \"Total Population\"]]\n",
    "df_pop_0_to_20 = df_pop_0_to_20[[\"Year\", \"Population (0-20)\"]]\n",
    "df_pop_20_to_59 = df_pop_20_to_59[[\"Year\", \"Population (20-59)\"]]\n",
    "df_pop_75_plus = df_pop_75_plus[[\"Year\", \"Population (75+)\"]]\n",
    "df_net_migration = df_net_migration[[\"Year\", \"Net Migration\"]]\n",
    "\n",
    "# Inspect cleaned datasets\n",
    "print(df_total_population.head())\n",
    "print(df_pop_0_to_20.head())\n",
    "print(df_pop_20_to_59.head())\n",
    "print(df_pop_75_plus.head())\n",
    "print(df_net_migration.head())\n"
   ]
  },
  {
   "cell_type": "markdown",
   "metadata": {},
   "source": [
    "### 1- Observation:\n",
    "As we know that the French population is around 65 million people, we notice that the Total Population is expressed in thousands. This means the actual population is the current number x1000.\n",
    "\n",
    "Because we plan on calculating ratios, I will express the Total Population by headcount.\n"
   ]
  },
  {
   "cell_type": "code",
   "execution_count": 68,
   "metadata": {},
   "outputs": [
    {
     "name": "stdout",
     "output_type": "stream",
     "text": [
      "      Year  Total Population\n",
      "0  2024-11          66313000\n",
      "1  2024-10          66297000\n",
      "2  2024-09          66276000\n",
      "3  2024-08          66254000\n",
      "4  2024-07          66231000\n"
     ]
    }
   ],
   "source": [
    "# Convert Total Population from thousands to headcount\n",
    "df_total_population[\"Total Population\"] = df_total_population[\"Total Population\"] * 1000\n",
    "\n",
    "# Inspect the updated DataFrame\n",
    "print(df_total_population.head())"
   ]
  },
  {
   "cell_type": "markdown",
   "metadata": {},
   "source": [
    "### 2- Observation:\n",
    "\n",
    "Total Population data is given monthly and not yearly, therefore we will only keep the population number for the month of january (as it is the reference point for the other datasets).\n"
   ]
  },
  {
   "cell_type": "code",
   "execution_count": 71,
   "metadata": {},
   "outputs": [
    {
     "name": "stdout",
     "output_type": "stream",
     "text": [
      "Filtered Total Population dataset (first record for each year) with reset indices:\n",
      "   Year  Total Population\n",
      "0  1975          52600000\n",
      "1  1976          53004000\n",
      "2  1977          53258000\n",
      "3  1978          53419000\n",
      "4  1979          53714000\n"
     ]
    }
   ],
   "source": [
    "# Convert 'Year' to string to ensure compatibility with .str methods\n",
    "df_total_population[\"Year\"] = df_total_population[\"Year\"].astype(str)\n",
    "\n",
    "# Extract valid 4-digit years from the 'Year' column\n",
    "df_total_population[\"Year\"] = df_total_population[\"Year\"].str.extract(r\"(\\d{4})\")\n",
    "\n",
    "# Convert the cleaned 'Year' column to integer\n",
    "df_total_population[\"Year\"] = df_total_population[\"Year\"].astype(int)\n",
    "\n",
    "# Sort the dataset by date to ensure the earliest data point for each year comes first\n",
    "df_total_population = df_total_population.sort_values(by=[\"Year\"])\n",
    "\n",
    "# Drop duplicates based on 'Year', keeping only the first occurrence\n",
    "df_total_population = df_total_population.drop_duplicates(subset=[\"Year\"])\n",
    "\n",
    "# Reset the index after filtering\n",
    "df_total_population = df_total_population.reset_index(drop=True)\n",
    "\n",
    "# Inspect the filtered dataset\n",
    "print(\"Filtered Total Population dataset (first record for each year) with reset indices:\")\n",
    "print(df_total_population.head())"
   ]
  },
  {
   "cell_type": "code",
   "execution_count": 72,
   "metadata": {},
   "outputs": [
    {
     "name": "stdout",
     "output_type": "stream",
     "text": [
      "Year range for Total Population:\n",
      "Start Year: 1975, End Year: 2024\n",
      "--------------------------------\n",
      "Year range for Population (0-20):\n",
      "Start Year: 1946, End Year: 2024\n",
      "--------------------------------\n",
      "Year range for Population (20-59):\n",
      "Start Year: 1946, End Year: 2024\n",
      "--------------------------------\n",
      "Year range for Population (75+):\n",
      "Start Year: 1946, End Year: 2024\n",
      "--------------------------------\n",
      "Year range for Net Migration:\n",
      "Start Year: 1946, End Year: 2023\n",
      "--------------------------------\n"
     ]
    }
   ],
   "source": [
    "# Function to check the year range for a dataset\n",
    "def check_year_range(df, dataset_name):\n",
    "    print(f\"Year range for {dataset_name}:\")\n",
    "    print(f\"Start Year: {df['Year'].min()}, End Year: {df['Year'].max()}\")\n",
    "    print(\"--------------------------------\")\n",
    "\n",
    "# Check year range for each dataset\n",
    "check_year_range(df_total_population, \"Total Population\")\n",
    "check_year_range(df_pop_0_to_20, \"Population (0-20)\")\n",
    "check_year_range(df_pop_20_to_59, \"Population (20-59)\")\n",
    "check_year_range(df_pop_75_plus, \"Population (75+)\")\n",
    "check_year_range(df_net_migration, \"Net Migration\")"
   ]
  },
  {
   "cell_type": "markdown",
   "metadata": {},
   "source": [
    "### Observation:\n",
    "\n",
    "As our analysis is focused on the last 50 years, we will disregard data before 1975."
   ]
  },
  {
   "cell_type": "code",
   "execution_count": 74,
   "metadata": {},
   "outputs": [
    {
     "name": "stdout",
     "output_type": "stream",
     "text": [
      "Total Population filtered to include only years from 1975 onwards:\n",
      "   Year  Total Population\n",
      "0  1975          52600000\n",
      "1  1976          53004000\n",
      "2  1977          53258000\n",
      "3  1978          53419000\n",
      "4  1979          53714000\n",
      "--------------------------------\n",
      "Population (0-20) filtered to include only years from 1975 onwards:\n",
      "   Year  Population (0-20)\n",
      "0  2024           15222363\n",
      "1  2023           15297453\n",
      "2  2022           15355494\n",
      "3  2021           15417227\n",
      "4  2020           15512858\n",
      "--------------------------------\n",
      "Population (20-59) filtered to include only years from 1975 onwards:\n",
      "   Year  Population (20-59)\n",
      "0  2024            32402690\n",
      "1  2023            32425155\n",
      "2  2022            32410370\n",
      "3  2021            32395954\n",
      "4  2020            32303266\n",
      "--------------------------------\n",
      "Population (75+) filtered to include only years from 1975 onwards:\n",
      "   Year  Population (75+)\n",
      "0  2024           6968892\n",
      "1  2023           6697135\n",
      "2  2022           6467397\n",
      "3  2021           6253682\n",
      "4  2020           6223555\n",
      "--------------------------------\n",
      "Net Migration filtered to include only years from 1975 onwards:\n",
      "   Year  Net Migration\n",
      "0  2023         193000\n",
      "1  2022         193000\n",
      "2  2021         193000\n",
      "3  2020         227847\n",
      "4  2019         139849\n",
      "--------------------------------\n"
     ]
    }
   ],
   "source": [
    "# Function to filter data for years >= 1975\n",
    "def filter_years(df, dataset_name):\n",
    "    filtered_df = df[df[\"Year\"] >= 1975]\n",
    "    print(f\"{dataset_name} filtered to include only years from 1975 onwards:\")\n",
    "    print(filtered_df.head())\n",
    "    print(\"--------------------------------\")\n",
    "    return filtered_df\n",
    "\n",
    "# Apply the filter to each dataset\n",
    "df_total_population = filter_years(df_total_population, \"Total Population\")\n",
    "df_pop_0_to_20 = filter_years(df_pop_0_to_20, \"Population (0-20)\")\n",
    "df_pop_20_to_59 = filter_years(df_pop_20_to_59, \"Population (20-59)\")\n",
    "df_pop_75_plus = filter_years(df_pop_75_plus, \"Population (75+)\")\n",
    "df_net_migration = filter_years(df_net_migration, \"Net Migration\")"
   ]
  },
  {
   "cell_type": "markdown",
   "metadata": {},
   "source": [
    "### Observation:\n",
    "\n",
    "We notice Migration data stops in 2023 (keep in mind)."
   ]
  },
  {
   "cell_type": "code",
   "execution_count": 75,
   "metadata": {},
   "outputs": [
    {
     "name": "stdout",
     "output_type": "stream",
     "text": [
      "Dataset: Total Population\n",
      "\n",
      "Data Types:\n",
      "Year                int64\n",
      "Total Population    int64\n",
      "dtype: object\n",
      "\n",
      "Missing Values:\n",
      "Year                0\n",
      "Total Population    0\n",
      "dtype: int64\n",
      "\n",
      "Negative Values in Population Columns:\n",
      "Total Population    0\n",
      "dtype: int64\n",
      "\n",
      "--------------------------------\n",
      "\n",
      "Dataset: Population (0-20)\n",
      "\n",
      "Data Types:\n",
      "Year                 int64\n",
      "Population (0-20)    int64\n",
      "dtype: object\n",
      "\n",
      "Missing Values:\n",
      "Year                 0\n",
      "Population (0-20)    0\n",
      "dtype: int64\n",
      "\n",
      "Negative Values in Population Columns:\n",
      "Population (0-20)    0\n",
      "dtype: int64\n",
      "\n",
      "--------------------------------\n",
      "\n",
      "Dataset: Population (20-59)\n",
      "\n",
      "Data Types:\n",
      "Year                  int64\n",
      "Population (20-59)    int64\n",
      "dtype: object\n",
      "\n",
      "Missing Values:\n",
      "Year                  0\n",
      "Population (20-59)    0\n",
      "dtype: int64\n",
      "\n",
      "Negative Values in Population Columns:\n",
      "Population (20-59)    0\n",
      "dtype: int64\n",
      "\n",
      "--------------------------------\n",
      "\n",
      "Dataset: Population (75+)\n",
      "\n",
      "Data Types:\n",
      "Year                int64\n",
      "Population (75+)    int64\n",
      "dtype: object\n",
      "\n",
      "Missing Values:\n",
      "Year                0\n",
      "Population (75+)    0\n",
      "dtype: int64\n",
      "\n",
      "Negative Values in Population Columns:\n",
      "Population (75+)    0\n",
      "dtype: int64\n",
      "\n",
      "--------------------------------\n",
      "\n",
      "Dataset: Net Migration\n",
      "\n",
      "Data Types:\n",
      "Year             int64\n",
      "Net Migration    int64\n",
      "dtype: object\n",
      "\n",
      "Missing Values:\n",
      "Year             0\n",
      "Net Migration    0\n",
      "dtype: int64\n",
      "\n",
      "Negative Values in Population Columns:\n",
      "Net Migration    0\n",
      "dtype: int64\n",
      "\n",
      "--------------------------------\n",
      "\n"
     ]
    }
   ],
   "source": [
    "# Define a function to check for issues in a dataset\n",
    "def inspect_data(df, dataset_name):\n",
    "    print(f\"Dataset: {dataset_name}\")\n",
    "    # Check data types\n",
    "    print(\"\\nData Types:\")\n",
    "    print(df.dtypes)\n",
    "    \n",
    "    # Check for missing values\n",
    "    print(\"\\nMissing Values:\")\n",
    "    print(df.isnull().sum())\n",
    "    \n",
    "    # Check for negative values in population columns\n",
    "    population_columns = [col for col in df.columns if \"Population\" in col or \"Net Migration\" in col]\n",
    "    if population_columns:\n",
    "        print(\"\\nNegative Values in Population Columns:\")\n",
    "        print(df[population_columns].lt(0).sum())\n",
    "    else:\n",
    "        print(\"\\nNo Population Columns Detected\")\n",
    "    \n",
    "    print(\"\\n--------------------------------\\n\")\n",
    "\n",
    "# Inspect each dataset\n",
    "inspect_data(df_total_population, \"Total Population\")\n",
    "inspect_data(df_pop_0_to_20, \"Population (0-20)\")\n",
    "inspect_data(df_pop_20_to_59, \"Population (20-59)\")\n",
    "inspect_data(df_pop_75_plus, \"Population (75+)\")\n",
    "inspect_data(df_net_migration, \"Net Migration\")"
   ]
  },
  {
   "cell_type": "markdown",
   "metadata": {},
   "source": [
    "### Observation:\n",
    "\n",
    "We observe that there are no missing or incoherent values. As l'INSEE is known to publish qualitative datasets, this seerved as a straightforward verification step. \n",
    "\n",
    "WE ARE NOW READY TO MERGE DATASETS !!! YAYYYY !"
   ]
  },
  {
   "cell_type": "markdown",
   "metadata": {},
   "source": [
    "## Step 4: Data Transformation"
   ]
  },
  {
   "cell_type": "code",
   "execution_count": 76,
   "metadata": {},
   "outputs": [
    {
     "name": "stdout",
     "output_type": "stream",
     "text": [
      "Merged and Processed Dataset:\n",
      "   Year  Total Population  Population (0-20)  Population (20-59)  \\\n",
      "0  1975          52600000           16888065            26039628   \n",
      "1  1976          53004000           16809211            26405010   \n",
      "2  1977          53258000           16703587            26891695   \n",
      "3  1978          53419000           16612734            27358707   \n",
      "4  1979          53714000           16510923            27766228   \n",
      "\n",
      "   Population (60-74)  Population (75+)  \n",
      "0             7015885           2656422  \n",
      "1             7067245           2722534  \n",
      "2             6852221           2810497  \n",
      "3             6537012           2910547  \n",
      "4             6443459           2993390  \n"
     ]
    }
   ],
   "source": [
    "# Merge datasets on 'Year'\n",
    "merged_df = df_total_population.merge(df_pop_0_to_20, on=\"Year\", how=\"inner\") \\\n",
    "                               .merge(df_pop_20_to_59, on=\"Year\", how=\"inner\") \\\n",
    "                               .merge(df_pop_75_plus, on=\"Year\", how=\"inner\")\n",
    "\n",
    "# Calculate Population (60-74)\n",
    "merged_df[\"Population (60-74)\"] = (\n",
    "    merged_df[\"Total Population\"]\n",
    "    - (merged_df[\"Population (0-20)\"] + merged_df[\"Population (20-59)\"] + merged_df[\"Population (75+)\"])\n",
    ")\n",
    "\n",
    "# Select final columns\n",
    "final_df = merged_df[[\"Year\", \"Total Population\", \"Population (0-20)\", \"Population (20-59)\", \"Population (60-74)\", \"Population (75+)\"]]\n",
    "\n",
    "# Inspect the final DataFrame\n",
    "print(\"Merged and Processed Dataset:\")\n",
    "print(final_df.head())"
   ]
  },
  {
   "cell_type": "code",
   "execution_count": 78,
   "metadata": {},
   "outputs": [
    {
     "name": "stdout",
     "output_type": "stream",
     "text": [
      "Proportions DataFrame with Rounded Values:\n",
      "   Year  Proportion (0-20)  Proportion (20-59)  Proportion (60-74)  \\\n",
      "0  1975               32.1                49.5                13.3   \n",
      "1  1976               31.7                49.8                13.3   \n",
      "2  1977               31.4                50.5                12.9   \n",
      "3  1978               31.1                51.2                12.2   \n",
      "4  1979               30.7                51.7                12.0   \n",
      "\n",
      "   Proportion (75+)  Proportion (Net Migration)  \n",
      "0               5.1                         0.0  \n",
      "1               5.1                         0.1  \n",
      "2               5.3                         0.1  \n",
      "3               5.4                         0.0  \n",
      "4               5.6                         0.1  \n"
     ]
    }
   ],
   "source": [
    "# Create a new DataFrame with Year and proportions of each category\n",
    "proportions_df = final_df.copy()\n",
    "\n",
    "# Calculate proportions for each population category\n",
    "proportions_df[\"Proportion (0-20)\"] = (proportions_df[\"Population (0-20)\"] / proportions_df[\"Total Population\"]) * 100\n",
    "proportions_df[\"Proportion (20-59)\"] = (proportions_df[\"Population (20-59)\"] / proportions_df[\"Total Population\"]) * 100\n",
    "proportions_df[\"Proportion (60-74)\"] = (proportions_df[\"Population (60-74)\"] / proportions_df[\"Total Population\"]) * 100\n",
    "proportions_df[\"Proportion (75+)\"] = (proportions_df[\"Population (75+)\"] / proportions_df[\"Total Population\"]) * 100\n",
    "\n",
    "# Add Net Migration as a proportion of the total population\n",
    "proportions_df = proportions_df.merge(df_net_migration, on=\"Year\", how=\"inner\")\n",
    "proportions_df[\"Proportion (Net Migration)\"] = (proportions_df[\"Net Migration\"] / proportions_df[\"Total Population\"]) * 100\n",
    "\n",
    "# Truncate all proportions to the nearest tenth\n",
    "proportions_df[\"Proportion (0-20)\"] = proportions_df[\"Proportion (0-20)\"].round(1)\n",
    "proportions_df[\"Proportion (20-59)\"] = proportions_df[\"Proportion (20-59)\"].round(1)\n",
    "proportions_df[\"Proportion (60-74)\"] = proportions_df[\"Proportion (60-74)\"].round(1)\n",
    "proportions_df[\"Proportion (75+)\"] = proportions_df[\"Proportion (75+)\"].round(1)\n",
    "proportions_df[\"Proportion (Net Migration)\"] = proportions_df[\"Proportion (Net Migration)\"].round(1)\n",
    "\n",
    "# Keep only relevant columns\n",
    "proportions_df = proportions_df[[\n",
    "    \"Year\",\n",
    "    \"Proportion (0-20)\",\n",
    "    \"Proportion (20-59)\",\n",
    "    \"Proportion (60-74)\",\n",
    "    \"Proportion (75+)\",\n",
    "    \"Proportion (Net Migration)\"\n",
    "]]\n",
    "\n",
    "# Inspect the new DataFrame\n",
    "print(\"Proportions DataFrame with Rounded Values:\")\n",
    "print(proportions_df.head())\n"
   ]
  },
  {
   "cell_type": "markdown",
   "metadata": {},
   "source": [
    "## Step 5: Data Visualization"
   ]
  },
  {
   "cell_type": "code",
   "execution_count": 79,
   "metadata": {},
   "outputs": [
    {
     "data": {
      "image/png": "[encoded data removed]",
      "text/plain": [
       "<Figure size 864x576 with 1 Axes>"
      ]
     },
     "metadata": {
      "needs_background": "light"
     },
     "output_type": "display_data"
    }
   ],
   "source": [
    "import matplotlib.pyplot as plt\n",
    "\n",
    "# Plot proportions for each age group\n",
    "plt.figure(figsize=(12, 8))\n",
    "\n",
    "# Plot each age group proportion\n",
    "plt.plot(proportions_df[\"Year\"], proportions_df[\"Proportion (0-20)\"], label=\"0-20 Years\", linestyle=\"-\", marker=\"o\")\n",
    "plt.plot(proportions_df[\"Year\"], proportions_df[\"Proportion (20-59)\"], label=\"20-59 Years\", linestyle=\"--\", marker=\"s\")\n",
    "plt.plot(proportions_df[\"Year\"], proportions_df[\"Proportion (60-74)\"], label=\"60-74 Years\", linestyle=\":\", marker=\"^\")\n",
    "plt.plot(proportions_df[\"Year\"], proportions_df[\"Proportion (75+)\"], label=\"75+ Years\", linestyle=\"-.\", marker=\"x\")\n",
    "\n",
    "# Add title, labels, and legend\n",
    "plt.title(\"Proportion of French Population by Age Group (1975 - Present)\", fontsize=16)\n",
    "plt.xlabel(\"Year\", fontsize=14)\n",
    "plt.ylabel(\"Proportion of Total Population (%)\", fontsize=14)\n",
    "plt.legend(title=\"Age Group\", fontsize=12)\n",
    "plt.grid(True, linestyle=\"--\", alpha=0.7)\n",
    "\n",
    "# Adjust axis limits\n",
    "plt.ylim(0, 100)  # Population proportions are percentages\n",
    "plt.xticks(fontsize=12)\n",
    "plt.yticks(fontsize=12)\n",
    "\n",
    "# Show the plot\n",
    "plt.tight_layout()\n",
    "plt.show()"
   ]
  },
  {
   "cell_type": "markdown",
   "metadata": {},
   "source": [
    "### Observation:\n",
    "\n",
    "#### Age Group 0-20 Years:\n",
    "\n",
    "There is a declining trend in the proportion of the population aged 0-20 years over the years, indicating a lower birth rate or reduced younger population share relative to the total population.\n",
    "\n",
    "#### Age Group 20-59 Years:\n",
    "\n",
    "The proportion of the working-age population (20-59 years) shows stability with slight fluctuations, peaking during some years. This indicates relative constancy in the core working population's share.\n",
    "\n",
    "#### Age Group 60-74 Years:\n",
    "\n",
    "There is a slight increase in the proportion of the 60-74 age group, reflecting the effects of an aging population as life expectancy increases.\n",
    "\n",
    "#### Age Group 75+ Years:\n",
    "\n",
    "A steady increase is evident in the proportion of the population aged 75 years and above. This trend highlights an aging population and potentially reflects improved healthcare and longevity.\n",
    "\n",
    "### Public Policy Implications :\n",
    "\n",
    "The chart shows a shift toward an older population structure, with a declining younger population (0-20 years) and an increasing elderly population (60+ years). These trends have implications for public policy, particularly in areas like:\n",
    "\n",
    "#### Healthcare:\n",
    "\n",
    "Increased demand for geriatric care, chronic disease management, and long-term care services.\n",
    "Higher healthcare expenditures to address age-related conditions like dementia, cardiovascular diseases, and mobility issues.\n",
    "Need for healthcare infrastructure and workforce expansion to cater to an aging population.\n",
    "\n",
    "#### Pensions and Social Security:\n",
    "\n",
    "Strain on pension systems as a growing proportion of the population becomes eligible for retirement benefits.\n",
    "Possible reforms, such as increasing the retirement age or adjusting contribution rates, to ensure the sustainability of pension funds.\n",
    "Encouragement of private savings or pension schemes to reduce dependence on state-funded systems.\n",
    "\n",
    "#### Workforce Planning:\n",
    "\n",
    "Potential labor shortages due to a shrinking proportion of the working-age population (20-59 years).\n",
    "Increased focus on policies promoting workforce participation, such as retraining programs for older workers and support for working parents to balance family and career responsibilities.\n",
    "Consideration of immigration policies to supplement labor shortages and sustain economic growth.\n",
    "\n",
    "#### Education and Youth Policies:\n",
    "\n",
    "Adjustments in educational investments as the younger population declines, potentially redirecting resources to other demographic groups.\n",
    "Policies to encourage higher birth rates, such as family-friendly policies, affordable childcare, and parental leave benefits.\n",
    "\n",
    "#### Economic Growth and Productivity:\n",
    "\n",
    "Challenges to economic productivity as the ratio of dependents (non-working population) to the working-age population increases.\n",
    "Opportunities for automation and technological innovation to offset labor shortages and enhance productivity."
   ]
  },
  {
   "cell_type": "markdown",
   "metadata": {},
   "source": [
    "## Step 6: Analyze Net Migration"
   ]
  },
  {
   "cell_type": "code",
   "execution_count": 80,
   "metadata": {},
   "outputs": [
    {
     "data": {
      "image/png": "[encoded data removed]",
      "text/plain": [
       "<Figure size 864x432 with 1 Axes>"
      ]
     },
     "metadata": {
      "needs_background": "light"
     },
     "output_type": "display_data"
    }
   ],
   "source": [
    "import matplotlib.pyplot as plt\n",
    "\n",
    "# Create a new column for Net Migration as a percentage of the total population\n",
    "proportions_df[\"Net Migration (%)\"] = proportions_df[\"Proportion (Net Migration)\"]\n",
    "\n",
    "# Plot Net Migration over the years\n",
    "plt.figure(figsize=(12, 6))\n",
    "plt.plot(proportions_df[\"Year\"], proportions_df[\"Net Migration (%)\"], linestyle=\"-\", marker=\"o\", color=\"teal\")\n",
    "\n",
    "# Add title and labels\n",
    "plt.title(\"Net Migration as a Percentage of Total Population (1975 - Present)\", fontsize=16)\n",
    "plt.xlabel(\"Year\", fontsize=14)\n",
    "plt.ylabel(\"Net Migration (% of Total Population)\", fontsize=14)\n",
    "plt.grid(True, linestyle=\"--\", alpha=0.7)\n",
    "plt.xticks(fontsize=12)\n",
    "plt.yticks(fontsize=12)\n",
    "\n",
    "# Display the plot\n",
    "plt.tight_layout()\n",
    "plt.show()\n"
   ]
  },
  {
   "cell_type": "markdown",
   "metadata": {},
   "source": [
    "### Observation:\n",
    "\n",
    "#### Early Stability (1975-1980s):\n",
    "\n",
    "During this period, net migration remained low and stable, around 0%-0.1% of the total population.\n",
    "\n",
    "Historical Context:\n",
    "The 1973 oil crisis and subsequent global economic slowdown led France to adopt restrictive immigration policies, particularly targeting guest workers from former colonies in North Africa (e.g., Algeria, Morocco, Tunisia).\n",
    "These policies, coupled with family reunification laws, stabilized migration flows, with fewer new arrivals and more focus on integrating existing immigrant populations.\n",
    "\n",
    "#### First Spike in Net Migration (Late 1980s):\n",
    "\n",
    "The late 1980s saw a sharp increase in net migration, reaching notable peaks during this time.\n",
    "Historical Context:\n",
    "The 1981 election of François Mitterrand marked a shift toward more progressive immigration policies, including amnesties for undocumented migrants.\n",
    "France also began experiencing migration from Sub-Saharan Africa, driven by economic hardships and political instability in newly independent African states.\n",
    "European integration during this time (e.g., the Schengen Agreement in 1985) facilitated freer movement within Europe, likely contributing to increased migration.\n",
    "\n",
    "#### Stabilization and New Spike (1990s-2000s):\n",
    "\n",
    "Migration trends stabilized in the 1990s but spiked again in the early 2000s.\n",
    "Historical Context:\n",
    "The 1990s saw conflicts in the Balkans (e.g., Bosnia, Kosovo) leading to a wave of refugees entering Western Europe, including France.\n",
    "Economic growth in the late 1990s and early 2000s likely attracted labor migrants, particularly from Eastern Europe following the 1995 EU expansion.\n",
    "France also passed new immigration laws, including the 1998 Chevènement law, which aimed to simplify residency rights and encourage family reunification.\n",
    "\n",
    "#### Recent Sustained Increase (Post-2015):\n",
    "\n",
    "From the mid-2010s, there is a sustained and sharp increase in net migration, stabilizing around 0.3% of the total population.\n",
    "Historical Context:\n",
    "The 2015 European migrant crisis, driven by conflicts in Syria, Afghanistan, and Africa, led to a dramatic increase in asylum seekers across Europe, including France.\n",
    "France became a key destination for refugees and economic migrants, partly due to its colonial ties with African and Middle Eastern countries.\n",
    "Immigration policies, such as accepting a quota of asylum seekers under EU redistribution agreements, likely contributed to this trend.\n",
    "\n",
    "#### Periods of Zero Net Migration:\n",
    "\n",
    "Several years show net migration close to 0%, likely reflecting balanced inflows and outflows or data inconsistencies.\n",
    "Historical Context:\n",
    "These periods may coincide with restrictive immigration policies or temporary economic downturns (e.g., the 2008 financial crisis) that reduced France’s attractiveness to migrants.\n"
   ]
  },
  {
   "cell_type": "markdown",
   "metadata": {},
   "source": [
    "## Step 7: Conclusion"
   ]
  },
  {
   "cell_type": "markdown",
   "metadata": {},
   "source": [
    "### Implications for France\n",
    "\n",
    "#### Demographic Challenges:\n",
    "\n",
    "With France's aging population and declining birth rates, the sustained increase in migration post-2015 highlights its role in addressing labor shortages and population decline.\n",
    "Migration has been a critical factor in maintaining population growth and economic productivity.\n",
    "\n",
    "#### Social Integration:\n",
    "\n",
    "The rapid spikes in migration during certain periods (e.g., 2015) likely placed pressure on housing, education, and healthcare systems.\n",
    "Ensuring long-term social cohesion requires robust integration policies, particularly in urban centers with high immigrant populations.\n",
    "\n",
    "#### Geopolitical Role:\n",
    "\n",
    "France’s historical ties to Africa and the Middle East position it as a natural destination for migrants from these regions. This emphasizes France’s role in addressing global migration issues, particularly in collaboration with the EU."
   ]
  }
 ],
 "metadata": {
  "kernelspec": {
   "display_name": "Python 3",
   "language": "python",
   "name": "python3"
  },
  "language_info": {
   "codemirror_mode": {
    "name": "ipython",
    "version": 3
   },
   "file_extension": ".py",
   "mimetype": "text/x-python",
   "name": "python",
   "nbconvert_exporter": "python",
   "pygments_lexer": "ipython3",
   "version": "3.8.5"
  }
 },
 "nbformat": 4,
 "nbformat_minor": 4
}
